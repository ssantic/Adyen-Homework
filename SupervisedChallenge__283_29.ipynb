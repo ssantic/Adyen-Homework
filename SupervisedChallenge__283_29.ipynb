{
 "cells": [
  {
   "cell_type": "markdown",
   "metadata": {},
   "source": [
    "# Adyen Data Science Challenge\n",
    "\n",
    "An important application of data science at Adyen is to protect our merchants from fraudulent transactions. Fraudulent transactions happen when a fraudster steals a legit customer's credit card, and uses it to unlawfully buy goods online. For this reason, Adyen has a risk system in place that can refuse a transaction if it is suspected to be fraudulent. The overall goal is to reject as much fraud as possible, without compromising legit customers.\n",
    "\n",
    "Adyen knows that a transaction was fraudulent when it receives a chargeback. A chargeback is a notification from the card network that the amount of the transaction must be refunded to the legit customer. A chargeback can only happen on approved payments (i.e. if it was refused by our risk system or by the bank, money doesn't get deducted from the legit customer's account, thus no chargebacks can happen).\n",
    "\n",
    "\n",
    "In this challenge, your goal is to train a model to predict which transaction might be fraudulent and improve Adyen's risk system. What is important for our merchants is that the chargeback rate should at all time stay below 1%, while keeping revenue as high as possible. A chargeback costs them 15 EUR, +50% of the price of the goods (in the form of lost goods that they sent to the fraudster). While declining a transaction that turned out to be non-fraudulent (false positive) also costs them 50% of the price of the goods (in the form of missed revenue).\n",
    "\n",
    "## The dataset\n",
    "\n",
    "In the dataset provided you'll find 30 days of payment data for a few merchants, a merchant is a client for which we process payments, e.g. an e-commerce website, different merchants are not necessarly different companies.\n",
    "\n",
    "The dataset contains the following columns:\n",
    "\n",
    "| Field | Explanation|\n",
    "|:-----:| :------------------ |\n",
    "| merchant | The id of our client |\n",
    "| first_6_digit | The first 6 digit of the credit card used in the transaction which was recieved by our client |\n",
    "| payment_ref | The unique reference for this payment |\n",
    "| amount_eur | The amount in euros |\n",
    "| card_network | The network that emitted the card (shown as SchemeX, where X is variable)|\n",
    "| card_type | The type of card (debit,credit...)|\n",
    "| timestamp | The timestamp when this specific payment was received |\n",
    "| device_info | Information about the device used to perform the payment |\n",
    "| risk_checks | A list of lists, each sub-list contains a weight in first position and a rule (ID) in the second. The weight (which we call a risk score) which is assigned to each rule is directly proportional to the likelihood of the payment being fraudulent (negative: unlikely to be fraudulent, zero: check is performed but not seen as important, above zero: more likely to be fraudulent).  Merchants can create custom rules to flag some payments as fraudulent. The weight can also be assigned manually. Not all possible checks might be triggered by a payment (eg. a check might be relevant only for one country) so not all the possible checks are always present in the list, in other words, not all checks are the same for each datarow.|\n",
    "| refused_by_adyen_risk | Some of the risk-checks (rules) can force a payment to be refused; a refuse can also be caused by a predefined threshold on the risk-checks, such that if the score of the different rules exceed the threshold, the payment can be refused.|\n",
    "| refused_by_bank | A payment can also be refused by the bank for various reasons (lack of funds, card lost etc..)|\n",
    "| bank_country_id | The country ID of the bank |\n",
    "| user_id | The id of the user that is performing the payment, this can be used to identify users performing multiple payments. Usually a fraudulent payment is enough to identify the user as fraudster, this means that all of their payments can be considered fraudulent.   |\n",
    "| user_country_id | The country of the user that is performing the payment |\n",
    "| autorised_times | An array that contains up to 50 timestamps of the most recent accepted payments of this user on our platform. If there are no previously known approved payments of this user on our platform the array is empty. |\n",
    "| received_dates | An array that contains up to 50 timestamps of the most recent previously requested payments, populated only if the user has requested other payments on our platform before.|\n",
    "| billing_address_dates | An array which contains the timestamps when a payment request with a different billing address was received, an empty list means we never receveived a request with a different address.\n",
    "| delivery_address_dates | An array that will contain the timestamps when a payment request with a different delivery address was received, an empty list means we never receveived a request with a different delivery address.|\n",
    "| ip_dates | An array that will contain the timestamps when a payment request with a different ip address, compared to the first payment, was received; an empty list means we never receveived a request with a different address. This list can be seen as a set.|\n",
    "| is_fraud | Wether the payment was flagged as fraudulent. This happens when we receive a notification from the bank and can only happen for payments that were not already refused by adyen or by the bank.|\n",
    "\n",
    "\n",
    "## Aim of the Challenge \n",
    "\n",
    "The aim of this challenge is to understand how you approach both a new problem as a new dataset. In order to understand this process please include markdown cells in which you discuss your choices with regards to the data preparation and model choices.\n",
    "\n",
    "\n",
    "## Rules\n",
    "You can start working right in this Jupyter Notebook, save the results and send to submit it. The data which you will need is provided in different formats (csv, json, parquet), feel free to choose the one that is most convienent for you.\n",
    "\n",
    "(We will optionally accept submission in any other language/format as long as it comes with the full code and there is a clear explanation on how to execute it.)\n",
    "\n",
    "Also there are bonus points if you can make your model into a REST API.\n",
    "\n",
    "We kindly ask to submit your results within 48 hours since receiving this challenge.\n"
   ]
  },
  {
   "cell_type": "code",
   "execution_count": 41,
   "metadata": {},
   "outputs": [],
   "source": [
    "import pandas as pd\n",
    "import numpy as np\n",
    "from sklearn.model_selection import train_test_split\n",
    "from sklearn.ensemble import RandomForestClassifier\n",
    "from matplotlib import pyplot as plt"
   ]
  },
  {
   "cell_type": "markdown",
   "metadata": {},
   "source": [
    "### Read the dataset"
   ]
  },
  {
   "cell_type": "code",
   "execution_count": 2,
   "metadata": {},
   "outputs": [],
   "source": [
    "df = pd.read_json('SupervisedChallenge.json', orient='records', lines=True)"
   ]
  },
  {
   "cell_type": "code",
   "execution_count": 3,
   "metadata": {},
   "outputs": [
    {
     "data": {
      "text/html": [
       "<div>\n",
       "<style scoped>\n",
       "    .dataframe tbody tr th:only-of-type {\n",
       "        vertical-align: middle;\n",
       "    }\n",
       "\n",
       "    .dataframe tbody tr th {\n",
       "        vertical-align: top;\n",
       "    }\n",
       "\n",
       "    .dataframe thead th {\n",
       "        text-align: right;\n",
       "    }\n",
       "</style>\n",
       "<table border=\"1\" class=\"dataframe\">\n",
       "  <thead>\n",
       "    <tr style=\"text-align: right;\">\n",
       "      <th></th>\n",
       "      <th>merchant</th>\n",
       "      <th>first_6_digits</th>\n",
       "      <th>payment_ref</th>\n",
       "      <th>amount_eur</th>\n",
       "      <th>card_network</th>\n",
       "      <th>card_type</th>\n",
       "      <th>timestamp</th>\n",
       "      <th>device</th>\n",
       "      <th>risk_checks</th>\n",
       "      <th>refused_by_adyen_risk</th>\n",
       "      <th>refused_by_bank</th>\n",
       "      <th>bank_country_id</th>\n",
       "      <th>user_id</th>\n",
       "      <th>user_country_id</th>\n",
       "      <th>authorised_times</th>\n",
       "      <th>received_dates</th>\n",
       "      <th>billing_address_dates</th>\n",
       "      <th>delivery_address_dates</th>\n",
       "      <th>ip_dates</th>\n",
       "      <th>is_fraud</th>\n",
       "    </tr>\n",
       "  </thead>\n",
       "  <tbody>\n",
       "    <tr>\n",
       "      <th>0</th>\n",
       "      <td>Shop8</td>\n",
       "      <td>96543.0</td>\n",
       "      <td>78089c3946037ca9</td>\n",
       "      <td>0.00</td>\n",
       "      <td>SchemeF</td>\n",
       "      <td>DEBIT</td>\n",
       "      <td>2016-03-16 23:12:52</td>\n",
       "      <td>[iPod, Mobile]</td>\n",
       "      <td>[[0, 82d8a3c9f6], [5, 6fe65e5dbc], [0, 5e9071e...</td>\n",
       "      <td>0</td>\n",
       "      <td>0</td>\n",
       "      <td>0.0</td>\n",
       "      <td>2.673933e+09</td>\n",
       "      <td>0.0</td>\n",
       "      <td>[1458087107, 1458087043]</td>\n",
       "      <td>[1458169910, 1458169865, 1458169860, 145816981...</td>\n",
       "      <td>[]</td>\n",
       "      <td>[]</td>\n",
       "      <td>[1458169910, 1458087107]</td>\n",
       "      <td>0</td>\n",
       "    </tr>\n",
       "    <tr>\n",
       "      <th>1</th>\n",
       "      <td>Shop8</td>\n",
       "      <td>579100.0</td>\n",
       "      <td>62c49a618760d829</td>\n",
       "      <td>0.00</td>\n",
       "      <td>SchemeD</td>\n",
       "      <td>DEBIT</td>\n",
       "      <td>2016-03-19 15:27:17</td>\n",
       "      <td>[Other, Other]</td>\n",
       "      <td>[[0, 82d8a3c9f6], [100, 88c385a7f4], [100, 8b8...</td>\n",
       "      <td>1</td>\n",
       "      <td>0</td>\n",
       "      <td>1.0</td>\n",
       "      <td>2.684546e+09</td>\n",
       "      <td>1.0</td>\n",
       "      <td>[]</td>\n",
       "      <td>[1458401237, 1458400605]</td>\n",
       "      <td>[]</td>\n",
       "      <td>[]</td>\n",
       "      <td>[1458401237]</td>\n",
       "      <td>0</td>\n",
       "    </tr>\n",
       "    <tr>\n",
       "      <th>2</th>\n",
       "      <td>Shop2</td>\n",
       "      <td>535041.0</td>\n",
       "      <td>75517f4497a164e1</td>\n",
       "      <td>6.00</td>\n",
       "      <td>SchemeF</td>\n",
       "      <td>CREDIT</td>\n",
       "      <td>2016-03-20 21:24:54</td>\n",
       "      <td>None</td>\n",
       "      <td>[[-50, 82d8a3c9f6], [-100, c802faf604], [0, 7d...</td>\n",
       "      <td>0</td>\n",
       "      <td>0</td>\n",
       "      <td>2.0</td>\n",
       "      <td>2.238808e+09</td>\n",
       "      <td>2.0</td>\n",
       "      <td>[1450624829, 1450466297, 1450376979, 144585067...</td>\n",
       "      <td>[1458509094, 1450624829, 1450466297, 145037697...</td>\n",
       "      <td>[]</td>\n",
       "      <td>[]</td>\n",
       "      <td>[1458509094, 1450624829, 1450466297, 145037697...</td>\n",
       "      <td>0</td>\n",
       "    </tr>\n",
       "    <tr>\n",
       "      <th>3</th>\n",
       "      <td>Shop2</td>\n",
       "      <td>314986.0</td>\n",
       "      <td>aeecc3a05e7f472c</td>\n",
       "      <td>23.38</td>\n",
       "      <td>SchemeB</td>\n",
       "      <td>DEBIT</td>\n",
       "      <td>2016-04-12 21:00:15</td>\n",
       "      <td>[Windows, Desktop]</td>\n",
       "      <td>[[-80, 82d8a3c9f6], [30, 4c1c7b7377], [-100, c...</td>\n",
       "      <td>0</td>\n",
       "      <td>0</td>\n",
       "      <td>6.0</td>\n",
       "      <td>2.104261e+09</td>\n",
       "      <td>3.0</td>\n",
       "      <td>[1460494740, 1460494644, 1460494583, 146049447...</td>\n",
       "      <td>[1460494815, 1460494740, 1460494644, 146049458...</td>\n",
       "      <td>[]</td>\n",
       "      <td>[]</td>\n",
       "      <td>[1460494815, 1459523677, 1459293160, 145886088...</td>\n",
       "      <td>0</td>\n",
       "    </tr>\n",
       "    <tr>\n",
       "      <th>4</th>\n",
       "      <td>Shop2</td>\n",
       "      <td>636420.0</td>\n",
       "      <td>de37ef13d0434bd8</td>\n",
       "      <td>9.79</td>\n",
       "      <td>SchemeB</td>\n",
       "      <td>DEFFERED_DEBIT</td>\n",
       "      <td>2016-03-15 17:38:40</td>\n",
       "      <td>[Nintendo Switch, GamingConsole]</td>\n",
       "      <td>[[-150, 82d8a3c9f6], [30, 4c1c7b7377], [-100, ...</td>\n",
       "      <td>0</td>\n",
       "      <td>1</td>\n",
       "      <td>6.0</td>\n",
       "      <td>2.127859e+09</td>\n",
       "      <td>3.0</td>\n",
       "      <td>[1458060011, 1457924207, 1457922002, 145792192...</td>\n",
       "      <td>[1458063520, 1458063499, 1458060011, 145792420...</td>\n",
       "      <td>[]</td>\n",
       "      <td>[]</td>\n",
       "      <td>[1458063520, 1457924207, 1457885288, 145785274...</td>\n",
       "      <td>0</td>\n",
       "    </tr>\n",
       "  </tbody>\n",
       "</table>\n",
       "</div>"
      ],
      "text/plain": [
       "  merchant  first_6_digits       payment_ref  amount_eur card_network  \\\n",
       "0    Shop8         96543.0  78089c3946037ca9        0.00      SchemeF   \n",
       "1    Shop8        579100.0  62c49a618760d829        0.00      SchemeD   \n",
       "2    Shop2        535041.0  75517f4497a164e1        6.00      SchemeF   \n",
       "3    Shop2        314986.0  aeecc3a05e7f472c       23.38      SchemeB   \n",
       "4    Shop2        636420.0  de37ef13d0434bd8        9.79      SchemeB   \n",
       "\n",
       "        card_type           timestamp                            device  \\\n",
       "0           DEBIT 2016-03-16 23:12:52                    [iPod, Mobile]   \n",
       "1           DEBIT 2016-03-19 15:27:17                    [Other, Other]   \n",
       "2          CREDIT 2016-03-20 21:24:54                              None   \n",
       "3           DEBIT 2016-04-12 21:00:15                [Windows, Desktop]   \n",
       "4  DEFFERED_DEBIT 2016-03-15 17:38:40  [Nintendo Switch, GamingConsole]   \n",
       "\n",
       "                                         risk_checks  refused_by_adyen_risk  \\\n",
       "0  [[0, 82d8a3c9f6], [5, 6fe65e5dbc], [0, 5e9071e...                      0   \n",
       "1  [[0, 82d8a3c9f6], [100, 88c385a7f4], [100, 8b8...                      1   \n",
       "2  [[-50, 82d8a3c9f6], [-100, c802faf604], [0, 7d...                      0   \n",
       "3  [[-80, 82d8a3c9f6], [30, 4c1c7b7377], [-100, c...                      0   \n",
       "4  [[-150, 82d8a3c9f6], [30, 4c1c7b7377], [-100, ...                      0   \n",
       "\n",
       "   refused_by_bank  bank_country_id       user_id  user_country_id  \\\n",
       "0                0              0.0  2.673933e+09              0.0   \n",
       "1                0              1.0  2.684546e+09              1.0   \n",
       "2                0              2.0  2.238808e+09              2.0   \n",
       "3                0              6.0  2.104261e+09              3.0   \n",
       "4                1              6.0  2.127859e+09              3.0   \n",
       "\n",
       "                                    authorised_times  \\\n",
       "0                           [1458087107, 1458087043]   \n",
       "1                                                 []   \n",
       "2  [1450624829, 1450466297, 1450376979, 144585067...   \n",
       "3  [1460494740, 1460494644, 1460494583, 146049447...   \n",
       "4  [1458060011, 1457924207, 1457922002, 145792192...   \n",
       "\n",
       "                                      received_dates billing_address_dates  \\\n",
       "0  [1458169910, 1458169865, 1458169860, 145816981...                    []   \n",
       "1                           [1458401237, 1458400605]                    []   \n",
       "2  [1458509094, 1450624829, 1450466297, 145037697...                    []   \n",
       "3  [1460494815, 1460494740, 1460494644, 146049458...                    []   \n",
       "4  [1458063520, 1458063499, 1458060011, 145792420...                    []   \n",
       "\n",
       "  delivery_address_dates                                           ip_dates  \\\n",
       "0                     []                           [1458169910, 1458087107]   \n",
       "1                     []                                       [1458401237]   \n",
       "2                     []  [1458509094, 1450624829, 1450466297, 145037697...   \n",
       "3                     []  [1460494815, 1459523677, 1459293160, 145886088...   \n",
       "4                     []  [1458063520, 1457924207, 1457885288, 145785274...   \n",
       "\n",
       "   is_fraud  \n",
       "0         0  \n",
       "1         0  \n",
       "2         0  \n",
       "3         0  \n",
       "4         0  "
      ]
     },
     "execution_count": 3,
     "metadata": {},
     "output_type": "execute_result"
    }
   ],
   "source": [
    "df.head()"
   ]
  },
  {
   "cell_type": "code",
   "execution_count": 4,
   "metadata": {},
   "outputs": [
    {
     "data": {
      "text/plain": [
       "Shop2    29897\n",
       "Shop3     5933\n",
       "Shop8     5357\n",
       "Shop5      950\n",
       "Shop1      537\n",
       "Shop6      383\n",
       "Shop7      157\n",
       "Shop4        6\n",
       "Name: merchant, dtype: int64"
      ]
     },
     "execution_count": 4,
     "metadata": {},
     "output_type": "execute_result"
    }
   ],
   "source": [
    "df['merchant'].value_counts()"
   ]
  },
  {
   "cell_type": "code",
   "execution_count": 5,
   "metadata": {},
   "outputs": [
    {
     "data": {
      "text/plain": [
       "SchemeB     24032\n",
       "SchemeF      8778\n",
       "SchemeD      6090\n",
       "SchemeI      2669\n",
       "SchemeFA      948\n",
       "SchemeIA      262\n",
       "SchemeDA      215\n",
       "SchemeH       123\n",
       "SchemeDB       49\n",
       "SchemeG        45\n",
       "SchemeFB        5\n",
       "Name: card_network, dtype: int64"
      ]
     },
     "execution_count": 5,
     "metadata": {},
     "output_type": "execute_result"
    }
   ],
   "source": [
    "df['card_network'].value_counts()"
   ]
  },
  {
   "cell_type": "code",
   "execution_count": 6,
   "metadata": {},
   "outputs": [
    {
     "data": {
      "text/plain": [
       "DEBIT             22762\n",
       "CREDIT            15843\n",
       "PREPAID            1248\n",
       "DEFFERED_DEBIT      860\n",
       "Name: card_type, dtype: int64"
      ]
     },
     "execution_count": 6,
     "metadata": {},
     "output_type": "execute_result"
    }
   ],
   "source": [
    "df['card_type'].value_counts()"
   ]
  },
  {
   "cell_type": "code",
   "execution_count": 7,
   "metadata": {},
   "outputs": [
    {
     "ename": "TypeError",
     "evalue": "unhashable type: 'list'",
     "output_type": "error",
     "traceback": [
      "\u001b[1;31m---------------------------------------------------------------------------\u001b[0m",
      "\u001b[1;31mTypeError\u001b[0m                                 Traceback (most recent call last)",
      "\u001b[1;32mpandas\\_libs\\hashtable_class_helper.pxi\u001b[0m in \u001b[0;36mpandas._libs.hashtable.PyObjectHashTable.map_locations\u001b[1;34m()\u001b[0m\n",
      "\u001b[1;31mTypeError\u001b[0m: unhashable type: 'list'"
     ]
    },
    {
     "name": "stderr",
     "output_type": "stream",
     "text": [
      "Exception ignored in: 'pandas._libs.index.IndexEngine._call_map_locations'\n",
      "Traceback (most recent call last):\n",
      "  File \"pandas\\_libs\\hashtable_class_helper.pxi\", line 1648, in pandas._libs.hashtable.PyObjectHashTable.map_locations\n",
      "TypeError: unhashable type: 'list'\n"
     ]
    },
    {
     "data": {
      "text/plain": [
       "[MacOS, Desktop]                    4007\n",
       "[Other, Other]                      3984\n",
       "[Android Tablet, Tablet]            3981\n",
       "[iPad, Tablet]                      3977\n",
       "[iPhone, Mobile]                    3973\n",
       "[Windows Mobile, Mobile]            3968\n",
       "[Nintendo Switch, GamingConsole]    3949\n",
       "[iPod, Mobile]                      3884\n",
       "[Android Mobile, Mobile]            3825\n",
       "[Windows, Desktop]                  3729\n",
       "Name: device, dtype: int64"
      ]
     },
     "execution_count": 7,
     "metadata": {},
     "output_type": "execute_result"
    }
   ],
   "source": [
    "df['device'].value_counts()"
   ]
  },
  {
   "cell_type": "code",
   "execution_count": 8,
   "metadata": {},
   "outputs": [
    {
     "data": {
      "text/plain": [
       "merchant\n",
       "Shop1    0.029795\n",
       "Shop2    0.006757\n",
       "Shop3    0.000674\n",
       "Shop4    0.000000\n",
       "Shop5    0.002105\n",
       "Shop6    0.000000\n",
       "Shop7    0.000000\n",
       "Shop8    0.000000\n",
       "Name: is_fraud, dtype: float64"
      ]
     },
     "execution_count": 8,
     "metadata": {},
     "output_type": "execute_result"
    }
   ],
   "source": [
    "df.groupby('merchant')['is_fraud'].mean()"
   ]
  },
  {
   "cell_type": "code",
   "execution_count": 9,
   "metadata": {},
   "outputs": [
    {
     "data": {
      "text/plain": [
       "card_network\n",
       "SchemeB     0.008489\n",
       "SchemeD     0.001806\n",
       "SchemeDA    0.000000\n",
       "SchemeDB    0.000000\n",
       "SchemeF     0.000911\n",
       "SchemeFA    0.001055\n",
       "SchemeFB    0.000000\n",
       "SchemeG     0.000000\n",
       "SchemeH     0.000000\n",
       "SchemeI     0.000000\n",
       "SchemeIA    0.000000\n",
       "Name: is_fraud, dtype: float64"
      ]
     },
     "execution_count": 9,
     "metadata": {},
     "output_type": "execute_result"
    }
   ],
   "source": [
    "df.groupby('card_network')['is_fraud'].mean()"
   ]
  },
  {
   "cell_type": "code",
   "execution_count": 10,
   "metadata": {},
   "outputs": [
    {
     "data": {
      "text/plain": [
       "card_type\n",
       "CREDIT            0.005302\n",
       "DEBIT             0.005492\n",
       "DEFFERED_DEBIT    0.000000\n",
       "PREPAID           0.000000\n",
       "Name: is_fraud, dtype: float64"
      ]
     },
     "execution_count": 10,
     "metadata": {},
     "output_type": "execute_result"
    }
   ],
   "source": [
    "df.groupby('card_type')['is_fraud'].mean()"
   ]
  },
  {
   "cell_type": "code",
   "execution_count": 11,
   "metadata": {},
   "outputs": [],
   "source": [
    "# Replace None with empty list\n",
    "df['device'] = df['device'].apply(lambda x: [] if x is None else x)"
   ]
  },
  {
   "cell_type": "code",
   "execution_count": 12,
   "metadata": {},
   "outputs": [],
   "source": [
    "# Split device into device type and device family\n",
    "df[['device_type','device_family']] = pd.DataFrame(df.device.values.tolist(), index=df.index)"
   ]
  },
  {
   "cell_type": "code",
   "execution_count": 13,
   "metadata": {},
   "outputs": [],
   "source": [
    "df['device_type'] = df['device_type'].apply(lambda x: 'Unknown' if x is None else x)"
   ]
  },
  {
   "cell_type": "code",
   "execution_count": 14,
   "metadata": {},
   "outputs": [
    {
     "data": {
      "text/plain": [
       "device_type\n",
       "Android Mobile     0.392157\n",
       "Android Tablet     0.427028\n",
       "MacOS              0.673821\n",
       "Nintendo Switch    0.607749\n",
       "Other              0.476908\n",
       "Unknown            0.456505\n",
       "Windows            0.563154\n",
       "Windows Mobile     0.554435\n",
       "iPad               0.502892\n",
       "iPhone             0.528568\n",
       "iPod               0.514933\n",
       "Name: is_fraud, dtype: float64"
      ]
     },
     "execution_count": 14,
     "metadata": {},
     "output_type": "execute_result"
    }
   ],
   "source": [
    "df.groupby('device_type')['is_fraud'].mean()*100"
   ]
  },
  {
   "cell_type": "code",
   "execution_count": 15,
   "metadata": {},
   "outputs": [],
   "source": [
    "df['device_family'] = df['device_family'].apply(lambda x: 'Unknown' if x is None else x)"
   ]
  },
  {
   "cell_type": "code",
   "execution_count": 16,
   "metadata": {},
   "outputs": [
    {
     "data": {
      "text/plain": [
       "device_family\n",
       "Desktop          0.620476\n",
       "GamingConsole    0.607749\n",
       "Mobile           0.498403\n",
       "Other            0.476908\n",
       "Tablet           0.464941\n",
       "Unknown          0.456505\n",
       "Name: is_fraud, dtype: float64"
      ]
     },
     "execution_count": 16,
     "metadata": {},
     "output_type": "execute_result"
    }
   ],
   "source": [
    "df.groupby('device_family')['is_fraud'].mean()*100"
   ]
  },
  {
   "cell_type": "code",
   "execution_count": 17,
   "metadata": {},
   "outputs": [
    {
     "data": {
      "text/plain": [
       "0.5182785747339195"
      ]
     },
     "execution_count": 17,
     "metadata": {},
     "output_type": "execute_result"
    }
   ],
   "source": [
    "# Total fraud in %\n",
    "df['is_fraud'].mean()*100"
   ]
  },
  {
   "cell_type": "code",
   "execution_count": 18,
   "metadata": {},
   "outputs": [
    {
     "data": {
      "text/plain": [
       "0    40930\n",
       "1     2290\n",
       "Name: refused_by_adyen_risk, dtype: int64"
      ]
     },
     "execution_count": 18,
     "metadata": {},
     "output_type": "execute_result"
    }
   ],
   "source": [
    "df['refused_by_adyen_risk'].value_counts()"
   ]
  },
  {
   "cell_type": "code",
   "execution_count": 19,
   "metadata": {},
   "outputs": [
    {
     "data": {
      "text/plain": [
       "0    37863\n",
       "1     5357\n",
       "Name: refused_by_bank, dtype: int64"
      ]
     },
     "execution_count": 19,
     "metadata": {},
     "output_type": "execute_result"
    }
   ],
   "source": [
    "df['refused_by_bank'].value_counts()"
   ]
  },
  {
   "cell_type": "code",
   "execution_count": 20,
   "metadata": {},
   "outputs": [],
   "source": [
    "df['bank_country_id'] = df['bank_country_id'].apply(lambda x: str(x))"
   ]
  },
  {
   "cell_type": "code",
   "execution_count": 21,
   "metadata": {},
   "outputs": [],
   "source": [
    "df['bank_country_id'] = df['bank_country_id'].str.replace('nan', 'unknown')"
   ]
  },
  {
   "cell_type": "code",
   "execution_count": 22,
   "metadata": {},
   "outputs": [
    {
     "data": {
      "text/plain": [
       "bank_country_id\n",
       "89.0     0.200000\n",
       "105.0    0.010989\n",
       "6.0      0.006512\n",
       "68.0     0.002008\n",
       "45.0     0.000545\n",
       "Name: is_fraud, dtype: float64"
      ]
     },
     "execution_count": 22,
     "metadata": {},
     "output_type": "execute_result"
    }
   ],
   "source": [
    "# Top 5 fradulent bank countries\n",
    "df.groupby('bank_country_id')['is_fraud'].mean().sort_values(ascending=False)[0:5]"
   ]
  },
  {
   "cell_type": "code",
   "execution_count": 23,
   "metadata": {},
   "outputs": [
    {
     "data": {
      "text/html": [
       "<div>\n",
       "<style scoped>\n",
       "    .dataframe tbody tr th:only-of-type {\n",
       "        vertical-align: middle;\n",
       "    }\n",
       "\n",
       "    .dataframe tbody tr th {\n",
       "        vertical-align: top;\n",
       "    }\n",
       "\n",
       "    .dataframe thead th {\n",
       "        text-align: right;\n",
       "    }\n",
       "</style>\n",
       "<table border=\"1\" class=\"dataframe\">\n",
       "  <thead>\n",
       "    <tr style=\"text-align: right;\">\n",
       "      <th></th>\n",
       "      <th>count</th>\n",
       "      <th>mean</th>\n",
       "      <th>std</th>\n",
       "      <th>min</th>\n",
       "      <th>25%</th>\n",
       "      <th>50%</th>\n",
       "      <th>75%</th>\n",
       "      <th>max</th>\n",
       "    </tr>\n",
       "    <tr>\n",
       "      <th>bank_country_id</th>\n",
       "      <th></th>\n",
       "      <th></th>\n",
       "      <th></th>\n",
       "      <th></th>\n",
       "      <th></th>\n",
       "      <th></th>\n",
       "      <th></th>\n",
       "      <th></th>\n",
       "    </tr>\n",
       "  </thead>\n",
       "  <tbody>\n",
       "    <tr>\n",
       "      <th>89.0</th>\n",
       "      <td>5.0</td>\n",
       "      <td>0.200000</td>\n",
       "      <td>0.447214</td>\n",
       "      <td>0.0</td>\n",
       "      <td>0.0</td>\n",
       "      <td>0.0</td>\n",
       "      <td>0.0</td>\n",
       "      <td>1.0</td>\n",
       "    </tr>\n",
       "    <tr>\n",
       "      <th>105.0</th>\n",
       "      <td>91.0</td>\n",
       "      <td>0.010989</td>\n",
       "      <td>0.104828</td>\n",
       "      <td>0.0</td>\n",
       "      <td>0.0</td>\n",
       "      <td>0.0</td>\n",
       "      <td>0.0</td>\n",
       "      <td>1.0</td>\n",
       "    </tr>\n",
       "    <tr>\n",
       "      <th>6.0</th>\n",
       "      <td>33322.0</td>\n",
       "      <td>0.006512</td>\n",
       "      <td>0.080436</td>\n",
       "      <td>0.0</td>\n",
       "      <td>0.0</td>\n",
       "      <td>0.0</td>\n",
       "      <td>0.0</td>\n",
       "      <td>1.0</td>\n",
       "    </tr>\n",
       "    <tr>\n",
       "      <th>68.0</th>\n",
       "      <td>498.0</td>\n",
       "      <td>0.002008</td>\n",
       "      <td>0.044811</td>\n",
       "      <td>0.0</td>\n",
       "      <td>0.0</td>\n",
       "      <td>0.0</td>\n",
       "      <td>0.0</td>\n",
       "      <td>1.0</td>\n",
       "    </tr>\n",
       "    <tr>\n",
       "      <th>45.0</th>\n",
       "      <td>7342.0</td>\n",
       "      <td>0.000545</td>\n",
       "      <td>0.023336</td>\n",
       "      <td>0.0</td>\n",
       "      <td>0.0</td>\n",
       "      <td>0.0</td>\n",
       "      <td>0.0</td>\n",
       "      <td>1.0</td>\n",
       "    </tr>\n",
       "    <tr>\n",
       "      <th>...</th>\n",
       "      <td>...</td>\n",
       "      <td>...</td>\n",
       "      <td>...</td>\n",
       "      <td>...</td>\n",
       "      <td>...</td>\n",
       "      <td>...</td>\n",
       "      <td>...</td>\n",
       "      <td>...</td>\n",
       "    </tr>\n",
       "    <tr>\n",
       "      <th>35.0</th>\n",
       "      <td>2.0</td>\n",
       "      <td>0.000000</td>\n",
       "      <td>0.000000</td>\n",
       "      <td>0.0</td>\n",
       "      <td>0.0</td>\n",
       "      <td>0.0</td>\n",
       "      <td>0.0</td>\n",
       "      <td>0.0</td>\n",
       "    </tr>\n",
       "    <tr>\n",
       "      <th>34.0</th>\n",
       "      <td>2.0</td>\n",
       "      <td>0.000000</td>\n",
       "      <td>0.000000</td>\n",
       "      <td>0.0</td>\n",
       "      <td>0.0</td>\n",
       "      <td>0.0</td>\n",
       "      <td>0.0</td>\n",
       "      <td>0.0</td>\n",
       "    </tr>\n",
       "    <tr>\n",
       "      <th>33.0</th>\n",
       "      <td>2.0</td>\n",
       "      <td>0.000000</td>\n",
       "      <td>0.000000</td>\n",
       "      <td>0.0</td>\n",
       "      <td>0.0</td>\n",
       "      <td>0.0</td>\n",
       "      <td>0.0</td>\n",
       "      <td>0.0</td>\n",
       "    </tr>\n",
       "    <tr>\n",
       "      <th>32.0</th>\n",
       "      <td>35.0</td>\n",
       "      <td>0.000000</td>\n",
       "      <td>0.000000</td>\n",
       "      <td>0.0</td>\n",
       "      <td>0.0</td>\n",
       "      <td>0.0</td>\n",
       "      <td>0.0</td>\n",
       "      <td>0.0</td>\n",
       "    </tr>\n",
       "    <tr>\n",
       "      <th>unknown</th>\n",
       "      <td>130.0</td>\n",
       "      <td>0.000000</td>\n",
       "      <td>0.000000</td>\n",
       "      <td>0.0</td>\n",
       "      <td>0.0</td>\n",
       "      <td>0.0</td>\n",
       "      <td>0.0</td>\n",
       "      <td>0.0</td>\n",
       "    </tr>\n",
       "  </tbody>\n",
       "</table>\n",
       "<p>100 rows × 8 columns</p>\n",
       "</div>"
      ],
      "text/plain": [
       "                   count      mean       std  min  25%  50%  75%  max\n",
       "bank_country_id                                                      \n",
       "89.0                 5.0  0.200000  0.447214  0.0  0.0  0.0  0.0  1.0\n",
       "105.0               91.0  0.010989  0.104828  0.0  0.0  0.0  0.0  1.0\n",
       "6.0              33322.0  0.006512  0.080436  0.0  0.0  0.0  0.0  1.0\n",
       "68.0               498.0  0.002008  0.044811  0.0  0.0  0.0  0.0  1.0\n",
       "45.0              7342.0  0.000545  0.023336  0.0  0.0  0.0  0.0  1.0\n",
       "...                  ...       ...       ...  ...  ...  ...  ...  ...\n",
       "35.0                 2.0  0.000000  0.000000  0.0  0.0  0.0  0.0  0.0\n",
       "34.0                 2.0  0.000000  0.000000  0.0  0.0  0.0  0.0  0.0\n",
       "33.0                 2.0  0.000000  0.000000  0.0  0.0  0.0  0.0  0.0\n",
       "32.0                35.0  0.000000  0.000000  0.0  0.0  0.0  0.0  0.0\n",
       "unknown            130.0  0.000000  0.000000  0.0  0.0  0.0  0.0  0.0\n",
       "\n",
       "[100 rows x 8 columns]"
      ]
     },
     "execution_count": 23,
     "metadata": {},
     "output_type": "execute_result"
    }
   ],
   "source": [
    "df.groupby('bank_country_id')['is_fraud'].describe().sort_values(by='mean', ascending=False)"
   ]
  },
  {
   "cell_type": "code",
   "execution_count": 24,
   "metadata": {},
   "outputs": [
    {
     "data": {
      "text/plain": [
       "user_country_id\n",
       "unknown    0.009623\n",
       "6.0        0.005335\n",
       "45.0       0.000315\n",
       "97.0       0.000000\n",
       "2.0        0.000000\n",
       "Name: is_fraud, dtype: float64"
      ]
     },
     "execution_count": 24,
     "metadata": {},
     "output_type": "execute_result"
    }
   ],
   "source": [
    "# Top 5 fradulent user countries\n",
    "df['user_country_id'] = df['user_country_id'].apply(lambda x: str(x))\n",
    "df['user_country_id'] = df['user_country_id'].str.replace('nan', 'unknown')\n",
    "df.groupby('user_country_id')['is_fraud'].mean().sort_values(ascending=False)[0:5]"
   ]
  },
  {
   "cell_type": "code",
   "execution_count": 25,
   "metadata": {},
   "outputs": [],
   "source": [
    "# Merchant\n",
    "merchant_dummies = pd.get_dummies(df['merchant'], prefix='is_merchant', prefix_sep='_', dummy_na=True, drop_first=False)\n",
    "# Card network\n",
    "card_network_dummies = pd.get_dummies(df['card_network'], prefix='is_card_network', prefix_sep='_', dummy_na=True, drop_first=False)\n",
    "# Card type\n",
    "card_type_dummies = pd.get_dummies(df['card_type'], prefix='is_card_type', prefix_sep='_', dummy_na=True, drop_first=False)\n",
    "# Device type\n",
    "device_type_dummies = pd.get_dummies(df['device_type'], prefix='is_device_type', prefix_sep='_', dummy_na=True, drop_first=False)\n",
    "# Device family\n",
    "device_family_dummies = pd.get_dummies(df['device_family'], prefix='is_device_family', prefix_sep='_', dummy_na=True, drop_first=False)"
   ]
  },
  {
   "cell_type": "code",
   "execution_count": 26,
   "metadata": {},
   "outputs": [],
   "source": [
    "# Bank country matches user country\n",
    "df['bank_eq_user_country'] = np.where(df['bank_country_id'] == df['user_country_id'], 1, 0)\n",
    "# Count of authorised times\n",
    "df['authorised_times_cnt'] = df['authorised_times'].apply(lambda x: len(x) if isinstance(x, list) else 0)\n",
    "# Count of received dates\n",
    "df['received_date_cnt'] = df['received_dates'].apply(lambda x: len(x) if isinstance(x, list) else 0)\n",
    "# Count of billing address dates\n",
    "df['billing_addr_date_cnt'] = df['billing_address_dates'].apply(lambda x: len(x) if isinstance(x, list) else 0)\n",
    "# Count of delivery address dates\n",
    "df['delivery_addr_date_cnt'] = df['delivery_address_dates'].apply(lambda x: len(x) if isinstance(x, list) else 0)\n",
    "# Count of IP dates\n",
    "df['ip_dates_cnt'] = df['ip_dates'].apply(lambda x: len(x) if isinstance(x, list) else 0)\n",
    "# Top 5 fradulent bank countries\n",
    "df['is_bank_country_89'] = np.where(df['bank_country_id'] == '89.0', 1, 0)\n",
    "df['is_bank_country_105'] = np.where(df['bank_country_id'] == '105.0', 1, 0)\n",
    "df['is_bank_country_6'] = np.where(df['bank_country_id'] == '6.0', 1, 0)\n",
    "df['is_bank_country_68'] = np.where(df['bank_country_id'] == '68.0', 1, 0)\n",
    "df['is_bank_country_45'] = np.where(df['bank_country_id'] == '45.0', 1, 0)\n",
    "# Top 3 fradulent user countries\n",
    "df['is_user_country_unknown'] = np.where(df['user_country_id'] == 'unknown', 1, 0)\n",
    "df['is_user_country_6'] = np.where(df['user_country_id'] == '6.0', 1, 0)\n",
    "df['is_user_country_45'] = np.where(df['user_country_id'] == '45.0', 1, 0)"
   ]
  },
  {
   "cell_type": "code",
   "execution_count": 27,
   "metadata": {},
   "outputs": [],
   "source": [
    "# Day of week\n",
    "df['dow'] = df['timestamp'].apply(lambda x: x.dayofweek)\n",
    "# Hour of the day\n",
    "df['hour'] = df['timestamp'].apply(lambda x: x.hour)"
   ]
  },
  {
   "cell_type": "code",
   "execution_count": 28,
   "metadata": {},
   "outputs": [],
   "source": [
    "dow_dummies = pd.get_dummies(df['dow'], prefix='is_dow', prefix_sep='_', dummy_na=True, drop_first=False)\n",
    "hour_dummies = pd.get_dummies(df['hour'], prefix='is_hour', prefix_sep='_', dummy_na=True, drop_first=False)"
   ]
  },
  {
   "cell_type": "code",
   "execution_count": 33,
   "metadata": {},
   "outputs": [],
   "source": [
    "# Create new dataframe for modeling\n",
    "modeling_df = pd.concat([df[['bank_eq_user_country',\n",
    "                        'authorised_times_cnt',\n",
    "                        'received_date_cnt',\n",
    "                        'billing_addr_date_cnt',\n",
    "                        'delivery_addr_date_cnt',\n",
    "                        'ip_dates_cnt',\n",
    "                        'is_bank_country_89',\n",
    "                        'is_bank_country_105',\n",
    "                        'is_bank_country_6',\n",
    "                        'is_bank_country_68',\n",
    "                        'is_bank_country_45',\n",
    "                        'is_user_country_unknown',\n",
    "                        'is_user_country_6',\n",
    "                        'is_user_country_45',\n",
    "                        'amount_eur',\n",
    "                        'refused_by_adyen_risk',\n",
    "                        'refused_by_bank']],\n",
    "                        merchant_dummies,\n",
    "                        card_network_dummies,\n",
    "                        card_type_dummies,\n",
    "                        device_family_dummies,\n",
    "                        device_type_dummies,\n",
    "                        dow_dummies,\n",
    "                        hour_dummies],\n",
    "                        axis=1)"
   ]
  },
  {
   "cell_type": "code",
   "execution_count": 34,
   "metadata": {},
   "outputs": [
    {
     "data": {
      "text/html": [
       "<div>\n",
       "<style scoped>\n",
       "    .dataframe tbody tr th:only-of-type {\n",
       "        vertical-align: middle;\n",
       "    }\n",
       "\n",
       "    .dataframe tbody tr th {\n",
       "        vertical-align: top;\n",
       "    }\n",
       "\n",
       "    .dataframe thead th {\n",
       "        text-align: right;\n",
       "    }\n",
       "</style>\n",
       "<table border=\"1\" class=\"dataframe\">\n",
       "  <thead>\n",
       "    <tr style=\"text-align: right;\">\n",
       "      <th></th>\n",
       "      <th>bank_eq_user_country</th>\n",
       "      <th>authorised_times_cnt</th>\n",
       "      <th>received_date_cnt</th>\n",
       "      <th>billing_addr_date_cnt</th>\n",
       "      <th>delivery_addr_date_cnt</th>\n",
       "      <th>ip_dates_cnt</th>\n",
       "      <th>is_bank_country_89</th>\n",
       "      <th>is_bank_country_105</th>\n",
       "      <th>is_bank_country_6</th>\n",
       "      <th>is_bank_country_68</th>\n",
       "      <th>...</th>\n",
       "      <th>is_hour_15.0</th>\n",
       "      <th>is_hour_16.0</th>\n",
       "      <th>is_hour_17.0</th>\n",
       "      <th>is_hour_18.0</th>\n",
       "      <th>is_hour_19.0</th>\n",
       "      <th>is_hour_20.0</th>\n",
       "      <th>is_hour_21.0</th>\n",
       "      <th>is_hour_22.0</th>\n",
       "      <th>is_hour_23.0</th>\n",
       "      <th>is_hour_nan</th>\n",
       "    </tr>\n",
       "  </thead>\n",
       "  <tbody>\n",
       "    <tr>\n",
       "      <th>0</th>\n",
       "      <td>1</td>\n",
       "      <td>2</td>\n",
       "      <td>7</td>\n",
       "      <td>0</td>\n",
       "      <td>0</td>\n",
       "      <td>2</td>\n",
       "      <td>0</td>\n",
       "      <td>0</td>\n",
       "      <td>0</td>\n",
       "      <td>0</td>\n",
       "      <td>...</td>\n",
       "      <td>0</td>\n",
       "      <td>0</td>\n",
       "      <td>0</td>\n",
       "      <td>0</td>\n",
       "      <td>0</td>\n",
       "      <td>0</td>\n",
       "      <td>0</td>\n",
       "      <td>0</td>\n",
       "      <td>1</td>\n",
       "      <td>0</td>\n",
       "    </tr>\n",
       "    <tr>\n",
       "      <th>1</th>\n",
       "      <td>1</td>\n",
       "      <td>0</td>\n",
       "      <td>2</td>\n",
       "      <td>0</td>\n",
       "      <td>0</td>\n",
       "      <td>1</td>\n",
       "      <td>0</td>\n",
       "      <td>0</td>\n",
       "      <td>0</td>\n",
       "      <td>0</td>\n",
       "      <td>...</td>\n",
       "      <td>1</td>\n",
       "      <td>0</td>\n",
       "      <td>0</td>\n",
       "      <td>0</td>\n",
       "      <td>0</td>\n",
       "      <td>0</td>\n",
       "      <td>0</td>\n",
       "      <td>0</td>\n",
       "      <td>0</td>\n",
       "      <td>0</td>\n",
       "    </tr>\n",
       "    <tr>\n",
       "      <th>2</th>\n",
       "      <td>1</td>\n",
       "      <td>15</td>\n",
       "      <td>16</td>\n",
       "      <td>0</td>\n",
       "      <td>0</td>\n",
       "      <td>5</td>\n",
       "      <td>0</td>\n",
       "      <td>0</td>\n",
       "      <td>0</td>\n",
       "      <td>0</td>\n",
       "      <td>...</td>\n",
       "      <td>0</td>\n",
       "      <td>0</td>\n",
       "      <td>0</td>\n",
       "      <td>0</td>\n",
       "      <td>0</td>\n",
       "      <td>0</td>\n",
       "      <td>1</td>\n",
       "      <td>0</td>\n",
       "      <td>0</td>\n",
       "      <td>0</td>\n",
       "    </tr>\n",
       "    <tr>\n",
       "      <th>3</th>\n",
       "      <td>0</td>\n",
       "      <td>50</td>\n",
       "      <td>50</td>\n",
       "      <td>0</td>\n",
       "      <td>0</td>\n",
       "      <td>15</td>\n",
       "      <td>0</td>\n",
       "      <td>0</td>\n",
       "      <td>1</td>\n",
       "      <td>0</td>\n",
       "      <td>...</td>\n",
       "      <td>0</td>\n",
       "      <td>0</td>\n",
       "      <td>0</td>\n",
       "      <td>0</td>\n",
       "      <td>0</td>\n",
       "      <td>0</td>\n",
       "      <td>1</td>\n",
       "      <td>0</td>\n",
       "      <td>0</td>\n",
       "      <td>0</td>\n",
       "    </tr>\n",
       "    <tr>\n",
       "      <th>4</th>\n",
       "      <td>0</td>\n",
       "      <td>50</td>\n",
       "      <td>50</td>\n",
       "      <td>0</td>\n",
       "      <td>0</td>\n",
       "      <td>15</td>\n",
       "      <td>0</td>\n",
       "      <td>0</td>\n",
       "      <td>1</td>\n",
       "      <td>0</td>\n",
       "      <td>...</td>\n",
       "      <td>0</td>\n",
       "      <td>0</td>\n",
       "      <td>1</td>\n",
       "      <td>0</td>\n",
       "      <td>0</td>\n",
       "      <td>0</td>\n",
       "      <td>0</td>\n",
       "      <td>0</td>\n",
       "      <td>0</td>\n",
       "      <td>0</td>\n",
       "    </tr>\n",
       "  </tbody>\n",
       "</table>\n",
       "<p>5 rows × 95 columns</p>\n",
       "</div>"
      ],
      "text/plain": [
       "   bank_eq_user_country  authorised_times_cnt  received_date_cnt  \\\n",
       "0                     1                     2                  7   \n",
       "1                     1                     0                  2   \n",
       "2                     1                    15                 16   \n",
       "3                     0                    50                 50   \n",
       "4                     0                    50                 50   \n",
       "\n",
       "   billing_addr_date_cnt  delivery_addr_date_cnt  ip_dates_cnt  \\\n",
       "0                      0                       0             2   \n",
       "1                      0                       0             1   \n",
       "2                      0                       0             5   \n",
       "3                      0                       0            15   \n",
       "4                      0                       0            15   \n",
       "\n",
       "   is_bank_country_89  is_bank_country_105  is_bank_country_6  \\\n",
       "0                   0                    0                  0   \n",
       "1                   0                    0                  0   \n",
       "2                   0                    0                  0   \n",
       "3                   0                    0                  1   \n",
       "4                   0                    0                  1   \n",
       "\n",
       "   is_bank_country_68  ...  is_hour_15.0  is_hour_16.0  is_hour_17.0  \\\n",
       "0                   0  ...             0             0             0   \n",
       "1                   0  ...             1             0             0   \n",
       "2                   0  ...             0             0             0   \n",
       "3                   0  ...             0             0             0   \n",
       "4                   0  ...             0             0             1   \n",
       "\n",
       "   is_hour_18.0  is_hour_19.0  is_hour_20.0  is_hour_21.0  is_hour_22.0  \\\n",
       "0             0             0             0             0             0   \n",
       "1             0             0             0             0             0   \n",
       "2             0             0             0             1             0   \n",
       "3             0             0             0             1             0   \n",
       "4             0             0             0             0             0   \n",
       "\n",
       "   is_hour_23.0  is_hour_nan  \n",
       "0             1            0  \n",
       "1             0            0  \n",
       "2             0            0  \n",
       "3             0            0  \n",
       "4             0            0  \n",
       "\n",
       "[5 rows x 95 columns]"
      ]
     },
     "execution_count": 34,
     "metadata": {},
     "output_type": "execute_result"
    }
   ],
   "source": [
    "modeling_df.head()"
   ]
  },
  {
   "cell_type": "code",
   "execution_count": 39,
   "metadata": {},
   "outputs": [],
   "source": [
    "X_train, X_test, y_train, y_test = train_test_split(modeling_df, df['is_fraud'], test_size=0.3, random_state=176)"
   ]
  },
  {
   "cell_type": "code",
   "execution_count": 40,
   "metadata": {},
   "outputs": [
    {
     "data": {
      "text/plain": [
       "(12966,)"
      ]
     },
     "execution_count": 40,
     "metadata": {},
     "output_type": "execute_result"
    }
   ],
   "source": [
    "y_test.shape"
   ]
  },
  {
   "cell_type": "code",
   "execution_count": 42,
   "metadata": {},
   "outputs": [
    {
     "data": {
      "text/plain": [
       "0.004991075560256495"
      ]
     },
     "execution_count": 42,
     "metadata": {},
     "output_type": "execute_result"
    }
   ],
   "source": [
    "y_train.mean()"
   ]
  },
  {
   "cell_type": "code",
   "execution_count": 43,
   "metadata": {},
   "outputs": [
    {
     "data": {
      "text/plain": [
       "0.0056301095171988275"
      ]
     },
     "execution_count": 43,
     "metadata": {},
     "output_type": "execute_result"
    }
   ],
   "source": [
    "y_test.mean()"
   ]
  },
  {
   "cell_type": "code",
   "execution_count": null,
   "metadata": {},
   "outputs": [],
   "source": []
  }
 ],
 "metadata": {
  "kernelspec": {
   "display_name": "Python 3",
   "language": "python",
   "name": "python3"
  },
  "language_info": {
   "codemirror_mode": {
    "name": "ipython",
    "version": 3
   },
   "file_extension": ".py",
   "mimetype": "text/x-python",
   "name": "python",
   "nbconvert_exporter": "python",
   "pygments_lexer": "ipython3",
   "version": "3.7.6"
  }
 },
 "nbformat": 4,
 "nbformat_minor": 2
}
